{
 "cells": [
  {
   "cell_type": "markdown",
   "id": "adfa2e67",
   "metadata": {},
   "source": [
    "# PPwang's final test in fastpage\n",
    "> \"Test\"\n",
    "\n",
    "- toc:true- branch: master\n",
    "- badges: true\n",
    "- comments: true\n",
    "- categories: [fastpages, jupyter]\n",
    "- author: PPwang"
   ]
  },
  {
   "cell_type": "code",
   "execution_count": 1,
   "id": "9e22966e",
   "metadata": {},
   "outputs": [],
   "source": [
    "%matplotlib inline\n",
    "\n",
    "from pathlib import Path\n",
    "\n",
    "import pandas as pd\n",
    "import numpy as np\n",
    "from scipy.stats import trim_mean\n",
    "from statsmodels import robust\n",
    "import wquantiles\n",
    "\n",
    "import seaborn as sns\n",
    "import matplotlib.pylab as plt"
   ]
  }
 ],
 "metadata": {
  "kernelspec": {
   "display_name": "Python 3 (ipykernel)",
   "language": "python",
   "name": "python3"
  },
  "language_info": {
   "codemirror_mode": {
    "name": "ipython",
    "version": 3
   },
   "file_extension": ".py",
   "mimetype": "text/x-python",
   "name": "python",
   "nbconvert_exporter": "python",
   "pygments_lexer": "ipython3",
   "version": "3.9.7"
  }
 },
 "nbformat": 4,
 "nbformat_minor": 5
}
