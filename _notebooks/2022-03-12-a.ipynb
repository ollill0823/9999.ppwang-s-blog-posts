{
 "cells": [
  {
   "cell_type": "markdown",
   "id": "44036291",
   "metadata": {},
   "source": [
    "# MLB data analysis\n",
    "> Final project\n",
    "\n",
    "- toc: false\n",
    "- branch: master\n",
    "- badges: true\n",
    "- comments: true\n",
    "- categories: [fastpages, jupyter]\n",
    "- image: images/some_folder/your_image.png\n",
    "- hide: false\n",
    "- search_exclude: true\n",
    "- metadata_key1: metadata_value1\n",
    "- metadata_key2: metadata_value2\n",
    "- author: Chen Wang"
   ]
  },
  {
   "cell_type": "markdown",
   "id": "a5af3abe",
   "metadata": {},
   "source": [
    "# Name: Chen Wang\n",
    "# Date: 2022/03/13\n",
    "# Project title: ????"
   ]
  },
  {
   "cell_type": "markdown",
   "id": "c4b4064c",
   "metadata": {},
   "source": [
    "# Step 2: Create a section in your notebook that introduces you (or your group) and introduces your project"
   ]
  }
 ],
 "metadata": {
  "kernelspec": {
   "display_name": "Python 3 (ipykernel)",
   "language": "python",
   "name": "python3"
  },
  "language_info": {
   "codemirror_mode": {
    "name": "ipython",
    "version": 3
   },
   "file_extension": ".py",
   "mimetype": "text/x-python",
   "name": "python",
   "nbconvert_exporter": "python",
   "pygments_lexer": "ipython3",
   "version": "3.9.7"
  }
 },
 "nbformat": 4,
 "nbformat_minor": 5
}
