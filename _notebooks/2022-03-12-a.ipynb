{
 "cells": [
  {
   "cell_type": "markdown",
   "id": "44036291",
   "metadata": {},
   "source": [
    "# MLB data analysis1\n",
    "> Final project\n",
    "\n",
    "- toc: false\n",
    "- branch: master\n",
    "- badges: true\n",
    "- comments: true\n",
    "- categories: [fastpages, jupyter]\n",
    "- image: images/some_folder/your_image.png\n",
    "- hide: false\n",
    "- search_exclude: true\n",
    "- metadata_key1: metadata_value1\n",
    "- metadata_key2: metadata_value2\n",
    "- author: Chen Wang"
   ]
  },
  {
   "cell_type": "markdown",
   "id": "a5af3abe",
   "metadata": {},
   "source": [
    "# Name: Chen Wang\n",
    "# Date: 2022/03/13\n",
    "# Project title: ????"
   ]
  },
  {
   "cell_type": "markdown",
   "id": "a58c3ba1",
   "metadata": {},
   "source": [
    "# Step 2: Create a section in your notebook that introduces you (or your group) and introduces your project"
   ]
  },
  {
   "cell_type": "markdown",
   "id": "8dc1bb81",
   "metadata": {},
   "source": [
    "## project proposal:\n",
    "Using Python programming skills, chose one specified grat player to analyze if one of his bad seasons was affected by decreasing the spin rate of his pitching:\n",
    "\n",
    "1. analyze if spin rate make an influence in players\n",
    "2. Chose a player to do the analysis\n"
   ]
  },
  {
   "cell_type": "markdown",
   "id": "4745e416",
   "metadata": {},
   "source": [
    "# Step 3: Create a section in your notebook that introduces your data"
   ]
  },
  {
   "cell_type": "markdown",
   "id": "b6575450",
   "metadata": {},
   "source": [
    "### locate which players I want"
   ]
  },
  {
   "cell_type": "markdown",
   "id": "de26d8c7",
   "metadata": {},
   "source": [
    "**Extract** data out from [(MLB data websit)](\n",
    "https://baseballsavant.mlb.com/statcast_search?hfPT=FF%7CFT%7CFC%7CSI%7CFS%7CSL%7CCH%7CCU%7CKC%7CCS%7CKN%7CFO%7CEP%7CSC%7CIN%7CPO%7CAB%7C&hfAB=&hfGT=R%7C&hfPR=&hfZ=&stadium=&hfBBL=&hfNewZones=&hfPull=&hfC=&hfSea=2021%7C2020%7C2019%7C2018%7C2017%7C&hfSit=&player_type=pitcher&hfOuts=&opponent=&pitcher_throws=&batter_stands=&hfSA=&game_date_gt=&game_date_lt=&hfInfield=&team=&position=&hfOutfield=&hfRO=&home_road=&hfFlag=&hfBBT=&metric_1=&hfInn=&min_pitches=0&min_results=100&group_by=pitch-type&sort_col=spin_rate&player_event_sort=api_p_release_speed&sort_order=desc&min_pas=0#results)"
   ]
  },
  {
   "cell_type": "markdown",
   "id": "aaa1c41b",
   "metadata": {},
   "source": [
    "## Introduction:"
   ]
  },
  {
   "cell_type": "markdown",
   "id": "0c9e33d9",
   "metadata": {},
   "source": [
    "### What is the research topic from?"
   ]
  },
  {
   "cell_type": "markdown",
   "id": "724893f8",
   "metadata": {},
   "source": [
    "In 2021 in MLB, a new foreign-substance crackdown begins: pitchers will be ejected and suspended for using illegal foreign substances to doctor baseballs as Major League Baseball ramps up its enforcement of an area that has been the talk of baseball in recent weeks. It pushed analysts to do data analysis and predicted which players used substances before.\n"
   ]
  }
 ],
 "metadata": {
  "kernelspec": {
   "display_name": "Python 3 (ipykernel)",
   "language": "python",
   "name": "python3"
  },
  "language_info": {
   "codemirror_mode": {
    "name": "ipython",
    "version": 3
   },
   "file_extension": ".py",
   "mimetype": "text/x-python",
   "name": "python",
   "nbconvert_exporter": "python",
   "pygments_lexer": "ipython3",
   "version": "3.9.7"
  }
 },
 "nbformat": 4,
 "nbformat_minor": 5
}
