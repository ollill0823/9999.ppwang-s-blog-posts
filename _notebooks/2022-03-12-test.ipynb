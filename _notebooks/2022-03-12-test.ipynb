{
 "cells": [
  {
   "cell_type": "markdown",
   "id": "2c20a29a",
   "metadata": {},
   "source": [
    "# MLB data analysis\n",
    "> \"Final project\"\n",
    "\n",
    "- toc:true- branch: master\n",
    "- badges: true\n",
    "- comments: true\n",
    "- categories: [fastpages, jupyter]\n",
    "- author: PPwang"
   ]
  },
  {
   "cell_type": "markdown",
   "id": "9cd55583",
   "metadata": {},
   "source": [
    "## project proposal:\n",
    "Using Python programming skills, chose one specified grat player to analyze if one of his bad seasons was affected by decreasing the spin rate of his pitching:\n",
    "\n",
    "1. analyze if spin rate make an influence in players\n",
    "2. Chose a player to do the analysis"
   ]
  },
  {
   "cell_type": "markdown",
   "id": "724b77b2",
   "metadata": {},
   "source": [
    "# Step 3: Create a section in your notebook that introduces your data"
   ]
  }
 ],
 "metadata": {
  "kernelspec": {
   "display_name": "Python 3 (ipykernel)",
   "language": "python",
   "name": "python3"
  },
  "language_info": {
   "codemirror_mode": {
    "name": "ipython",
    "version": 3
   },
   "file_extension": ".py",
   "mimetype": "text/x-python",
   "name": "python",
   "nbconvert_exporter": "python",
   "pygments_lexer": "ipython3",
   "version": "3.9.7"
  }
 },
 "nbformat": 4,
 "nbformat_minor": 5
}
